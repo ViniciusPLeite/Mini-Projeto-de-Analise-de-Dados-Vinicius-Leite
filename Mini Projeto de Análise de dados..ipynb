{
 "cells": [
  {
   "cell_type": "markdown",
   "id": "023a9bef",
   "metadata": {},
   "source": [
    "## Objetivos \n",
    "1) Saber o valor total da folha salarial.\n",
    "2) Qual foi o faturamento da empresa?\n",
    "3) Qual % de funcionários já fechou algum contrato.\n",
    "4) Calcular o total de contratos que cada área da empresa fechou.\n",
    "5) Calcular o total de funcionários por área.\n",
    "6) Calcular o Ticket médio mensal dos contratos."
   ]
  },
  {
   "cell_type": "markdown",
   "id": "992f5861",
   "metadata": {},
   "source": [
    "### Importação de Módulos e arquivos "
   ]
  },
  {
   "cell_type": "code",
   "execution_count": 10,
   "id": "a15557ae",
   "metadata": {},
   "outputs": [
    {
     "data": {
      "text/html": [
       "<div>\n",
       "<style scoped>\n",
       "    .dataframe tbody tr th:only-of-type {\n",
       "        vertical-align: middle;\n",
       "    }\n",
       "\n",
       "    .dataframe tbody tr th {\n",
       "        vertical-align: top;\n",
       "    }\n",
       "\n",
       "    .dataframe thead th {\n",
       "        text-align: right;\n",
       "    }\n",
       "</style>\n",
       "<table border=\"1\" class=\"dataframe\">\n",
       "  <thead>\n",
       "    <tr style=\"text-align: right;\">\n",
       "      <th></th>\n",
       "      <th>ID Funcionário</th>\n",
       "      <th>Nome Completo</th>\n",
       "      <th>Salario Base</th>\n",
       "      <th>Impostos</th>\n",
       "      <th>Beneficios</th>\n",
       "      <th>VT</th>\n",
       "      <th>VR</th>\n",
       "      <th>Cargo</th>\n",
       "      <th>Area</th>\n",
       "    </tr>\n",
       "  </thead>\n",
       "  <tbody>\n",
       "    <tr>\n",
       "      <th>0</th>\n",
       "      <td>1</td>\n",
       "      <td>Gabriel Mesquita</td>\n",
       "      <td>21910</td>\n",
       "      <td>10955.0</td>\n",
       "      <td>4382.0</td>\n",
       "      <td>242</td>\n",
       "      <td>719.04</td>\n",
       "      <td>Diretor</td>\n",
       "      <td>Operações</td>\n",
       "    </tr>\n",
       "    <tr>\n",
       "      <th>1</th>\n",
       "      <td>2</td>\n",
       "      <td>João Haddad</td>\n",
       "      <td>5404</td>\n",
       "      <td>2702.0</td>\n",
       "      <td>1080.8</td>\n",
       "      <td>154</td>\n",
       "      <td>574.56</td>\n",
       "      <td>Estagiário</td>\n",
       "      <td>Logística</td>\n",
       "    </tr>\n",
       "    <tr>\n",
       "      <th>2</th>\n",
       "      <td>3</td>\n",
       "      <td>Amanda Marques Ribeiro</td>\n",
       "      <td>16066</td>\n",
       "      <td>8033.0</td>\n",
       "      <td>3213.2</td>\n",
       "      <td>154</td>\n",
       "      <td>729.12</td>\n",
       "      <td>Estagiário</td>\n",
       "      <td>Administrativo</td>\n",
       "    </tr>\n",
       "    <tr>\n",
       "      <th>3</th>\n",
       "      <td>4</td>\n",
       "      <td>Guilherme Nunez</td>\n",
       "      <td>21305</td>\n",
       "      <td>10652.5</td>\n",
       "      <td>4261.0</td>\n",
       "      <td>220</td>\n",
       "      <td>524.16</td>\n",
       "      <td>Analista</td>\n",
       "      <td>Administrativo</td>\n",
       "    </tr>\n",
       "    <tr>\n",
       "      <th>4</th>\n",
       "      <td>5</td>\n",
       "      <td>Adelino Gomes</td>\n",
       "      <td>5098</td>\n",
       "      <td>2549.0</td>\n",
       "      <td>1019.6</td>\n",
       "      <td>176</td>\n",
       "      <td>725.76</td>\n",
       "      <td>Analista</td>\n",
       "      <td>Administrativo</td>\n",
       "    </tr>\n",
       "    <tr>\n",
       "      <th>...</th>\n",
       "      <td>...</td>\n",
       "      <td>...</td>\n",
       "      <td>...</td>\n",
       "      <td>...</td>\n",
       "      <td>...</td>\n",
       "      <td>...</td>\n",
       "      <td>...</td>\n",
       "      <td>...</td>\n",
       "      <td>...</td>\n",
       "    </tr>\n",
       "    <tr>\n",
       "      <th>109</th>\n",
       "      <td>143</td>\n",
       "      <td>Renan Scharnhorst Ott</td>\n",
       "      <td>10793</td>\n",
       "      <td>5396.5</td>\n",
       "      <td>2158.6</td>\n",
       "      <td>242</td>\n",
       "      <td>514.08</td>\n",
       "      <td>Analista</td>\n",
       "      <td>Logística</td>\n",
       "    </tr>\n",
       "    <tr>\n",
       "      <th>110</th>\n",
       "      <td>144</td>\n",
       "      <td>Lucas Brum Pereira</td>\n",
       "      <td>4048</td>\n",
       "      <td>2024.0</td>\n",
       "      <td>809.6</td>\n",
       "      <td>198</td>\n",
       "      <td>796.32</td>\n",
       "      <td>Estagiário</td>\n",
       "      <td>Comercial</td>\n",
       "    </tr>\n",
       "    <tr>\n",
       "      <th>111</th>\n",
       "      <td>148</td>\n",
       "      <td>Caio Stellet</td>\n",
       "      <td>24596</td>\n",
       "      <td>12298.0</td>\n",
       "      <td>4919.2</td>\n",
       "      <td>242</td>\n",
       "      <td>561.12</td>\n",
       "      <td>Analista</td>\n",
       "      <td>Administrativo</td>\n",
       "    </tr>\n",
       "    <tr>\n",
       "      <th>112</th>\n",
       "      <td>149</td>\n",
       "      <td>Fernanda Rocha</td>\n",
       "      <td>5078</td>\n",
       "      <td>2539.0</td>\n",
       "      <td>1015.6</td>\n",
       "      <td>308</td>\n",
       "      <td>665.28</td>\n",
       "      <td>Estagiário</td>\n",
       "      <td>Comercial</td>\n",
       "    </tr>\n",
       "    <tr>\n",
       "      <th>113</th>\n",
       "      <td>150</td>\n",
       "      <td>Eduardo Brum</td>\n",
       "      <td>15939</td>\n",
       "      <td>7969.5</td>\n",
       "      <td>3187.8</td>\n",
       "      <td>220</td>\n",
       "      <td>769.44</td>\n",
       "      <td>Analista</td>\n",
       "      <td>Comercial</td>\n",
       "    </tr>\n",
       "  </tbody>\n",
       "</table>\n",
       "<p>114 rows × 9 columns</p>\n",
       "</div>"
      ],
      "text/plain": [
       "     ID Funcionário           Nome Completo  Salario Base  Impostos  \\\n",
       "0                 1        Gabriel Mesquita         21910   10955.0   \n",
       "1                 2             João Haddad          5404    2702.0   \n",
       "2                 3  Amanda Marques Ribeiro         16066    8033.0   \n",
       "3                 4         Guilherme Nunez         21305   10652.5   \n",
       "4                 5           Adelino Gomes          5098    2549.0   \n",
       "..              ...                     ...           ...       ...   \n",
       "109             143   Renan Scharnhorst Ott         10793    5396.5   \n",
       "110             144      Lucas Brum Pereira          4048    2024.0   \n",
       "111             148            Caio Stellet         24596   12298.0   \n",
       "112             149          Fernanda Rocha          5078    2539.0   \n",
       "113             150            Eduardo Brum         15939    7969.5   \n",
       "\n",
       "     Beneficios   VT      VR       Cargo            Area  \n",
       "0        4382.0  242  719.04     Diretor       Operações  \n",
       "1        1080.8  154  574.56  Estagiário       Logística  \n",
       "2        3213.2  154  729.12  Estagiário  Administrativo  \n",
       "3        4261.0  220  524.16    Analista  Administrativo  \n",
       "4        1019.6  176  725.76    Analista  Administrativo  \n",
       "..          ...  ...     ...         ...             ...  \n",
       "109      2158.6  242  514.08    Analista       Logística  \n",
       "110       809.6  198  796.32  Estagiário       Comercial  \n",
       "111      4919.2  242  561.12    Analista  Administrativo  \n",
       "112      1015.6  308  665.28  Estagiário       Comercial  \n",
       "113      3187.8  220  769.44    Analista       Comercial  \n",
       "\n",
       "[114 rows x 9 columns]"
      ]
     },
     "metadata": {},
     "output_type": "display_data"
    },
    {
     "data": {
      "text/html": [
       "<div>\n",
       "<style scoped>\n",
       "    .dataframe tbody tr th:only-of-type {\n",
       "        vertical-align: middle;\n",
       "    }\n",
       "\n",
       "    .dataframe tbody tr th {\n",
       "        vertical-align: top;\n",
       "    }\n",
       "\n",
       "    .dataframe thead th {\n",
       "        text-align: right;\n",
       "    }\n",
       "</style>\n",
       "<table border=\"1\" class=\"dataframe\">\n",
       "  <thead>\n",
       "    <tr style=\"text-align: right;\">\n",
       "      <th></th>\n",
       "      <th>ID Cliente</th>\n",
       "      <th>Cliente</th>\n",
       "      <th>Valor Contrato Mensal</th>\n",
       "    </tr>\n",
       "  </thead>\n",
       "  <tbody>\n",
       "    <tr>\n",
       "      <th>0</th>\n",
       "      <td>1</td>\n",
       "      <td>Teixeira Gonçalves</td>\n",
       "      <td>540</td>\n",
       "    </tr>\n",
       "    <tr>\n",
       "      <th>1</th>\n",
       "      <td>2</td>\n",
       "      <td>Souza Santos</td>\n",
       "      <td>1260</td>\n",
       "    </tr>\n",
       "    <tr>\n",
       "      <th>2</th>\n",
       "      <td>3</td>\n",
       "      <td>Emídio Alves</td>\n",
       "      <td>3195</td>\n",
       "    </tr>\n",
       "    <tr>\n",
       "      <th>3</th>\n",
       "      <td>4</td>\n",
       "      <td>Santos Costa</td>\n",
       "      <td>2520</td>\n",
       "    </tr>\n",
       "    <tr>\n",
       "      <th>4</th>\n",
       "      <td>5</td>\n",
       "      <td>Do Monteiro</td>\n",
       "      <td>3510</td>\n",
       "    </tr>\n",
       "    <tr>\n",
       "      <th>...</th>\n",
       "      <td>...</td>\n",
       "      <td>...</td>\n",
       "      <td>...</td>\n",
       "    </tr>\n",
       "    <tr>\n",
       "      <th>315</th>\n",
       "      <td>316</td>\n",
       "      <td>Manoel Costa</td>\n",
       "      <td>3690</td>\n",
       "    </tr>\n",
       "    <tr>\n",
       "      <th>316</th>\n",
       "      <td>317</td>\n",
       "      <td>Gomes Machado</td>\n",
       "      <td>2385</td>\n",
       "    </tr>\n",
       "    <tr>\n",
       "      <th>317</th>\n",
       "      <td>318</td>\n",
       "      <td>Alkindar Cardozo</td>\n",
       "      <td>3510</td>\n",
       "    </tr>\n",
       "    <tr>\n",
       "      <th>318</th>\n",
       "      <td>319</td>\n",
       "      <td>Pereira Fazenda</td>\n",
       "      <td>4185</td>\n",
       "    </tr>\n",
       "    <tr>\n",
       "      <th>319</th>\n",
       "      <td>320</td>\n",
       "      <td>Americo Damasceno</td>\n",
       "      <td>2430</td>\n",
       "    </tr>\n",
       "  </tbody>\n",
       "</table>\n",
       "<p>320 rows × 3 columns</p>\n",
       "</div>"
      ],
      "text/plain": [
       "     ID Cliente             Cliente  Valor Contrato Mensal\n",
       "0             1  Teixeira Gonçalves                    540\n",
       "1             2        Souza Santos                   1260\n",
       "2             3        Emídio Alves                   3195\n",
       "3             4        Santos Costa                   2520\n",
       "4             5         Do Monteiro                   3510\n",
       "..          ...                 ...                    ...\n",
       "315         316        Manoel Costa                   3690\n",
       "316         317       Gomes Machado                   2385\n",
       "317         318    Alkindar Cardozo                   3510\n",
       "318         319     Pereira Fazenda                   4185\n",
       "319         320   Americo Damasceno                   2430\n",
       "\n",
       "[320 rows x 3 columns]"
      ]
     },
     "metadata": {},
     "output_type": "display_data"
    },
    {
     "data": {
      "text/html": [
       "<div>\n",
       "<style scoped>\n",
       "    .dataframe tbody tr th:only-of-type {\n",
       "        vertical-align: middle;\n",
       "    }\n",
       "\n",
       "    .dataframe tbody tr th {\n",
       "        vertical-align: top;\n",
       "    }\n",
       "\n",
       "    .dataframe thead th {\n",
       "        text-align: right;\n",
       "    }\n",
       "</style>\n",
       "<table border=\"1\" class=\"dataframe\">\n",
       "  <thead>\n",
       "    <tr style=\"text-align: right;\">\n",
       "      <th></th>\n",
       "      <th>Codigo do Servico</th>\n",
       "      <th>ID Funcionário</th>\n",
       "      <th>ID Cliente</th>\n",
       "      <th>Tempo Total de Contrato (Meses)</th>\n",
       "    </tr>\n",
       "  </thead>\n",
       "  <tbody>\n",
       "    <tr>\n",
       "      <th>0</th>\n",
       "      <td>OS0001</td>\n",
       "      <td>67</td>\n",
       "      <td>1</td>\n",
       "      <td>14</td>\n",
       "    </tr>\n",
       "    <tr>\n",
       "      <th>1</th>\n",
       "      <td>OS0002</td>\n",
       "      <td>17</td>\n",
       "      <td>2</td>\n",
       "      <td>12</td>\n",
       "    </tr>\n",
       "    <tr>\n",
       "      <th>2</th>\n",
       "      <td>OS0003</td>\n",
       "      <td>116</td>\n",
       "      <td>4</td>\n",
       "      <td>14</td>\n",
       "    </tr>\n",
       "    <tr>\n",
       "      <th>3</th>\n",
       "      <td>OS0004</td>\n",
       "      <td>37</td>\n",
       "      <td>5</td>\n",
       "      <td>8</td>\n",
       "    </tr>\n",
       "    <tr>\n",
       "      <th>4</th>\n",
       "      <td>OS0005</td>\n",
       "      <td>130</td>\n",
       "      <td>6</td>\n",
       "      <td>8</td>\n",
       "    </tr>\n",
       "    <tr>\n",
       "      <th>...</th>\n",
       "      <td>...</td>\n",
       "      <td>...</td>\n",
       "      <td>...</td>\n",
       "      <td>...</td>\n",
       "    </tr>\n",
       "    <tr>\n",
       "      <th>232</th>\n",
       "      <td>OS0233</td>\n",
       "      <td>111</td>\n",
       "      <td>315</td>\n",
       "      <td>4</td>\n",
       "    </tr>\n",
       "    <tr>\n",
       "      <th>233</th>\n",
       "      <td>OS0234</td>\n",
       "      <td>124</td>\n",
       "      <td>316</td>\n",
       "      <td>8</td>\n",
       "    </tr>\n",
       "    <tr>\n",
       "      <th>234</th>\n",
       "      <td>OS0235</td>\n",
       "      <td>72</td>\n",
       "      <td>317</td>\n",
       "      <td>6</td>\n",
       "    </tr>\n",
       "    <tr>\n",
       "      <th>235</th>\n",
       "      <td>OS0236</td>\n",
       "      <td>90</td>\n",
       "      <td>319</td>\n",
       "      <td>14</td>\n",
       "    </tr>\n",
       "    <tr>\n",
       "      <th>236</th>\n",
       "      <td>OS0237</td>\n",
       "      <td>22</td>\n",
       "      <td>320</td>\n",
       "      <td>12</td>\n",
       "    </tr>\n",
       "  </tbody>\n",
       "</table>\n",
       "<p>237 rows × 4 columns</p>\n",
       "</div>"
      ],
      "text/plain": [
       "    Codigo do Servico  ID Funcionário  ID Cliente  \\\n",
       "0              OS0001              67           1   \n",
       "1              OS0002              17           2   \n",
       "2              OS0003             116           4   \n",
       "3              OS0004              37           5   \n",
       "4              OS0005             130           6   \n",
       "..                ...             ...         ...   \n",
       "232            OS0233             111         315   \n",
       "233            OS0234             124         316   \n",
       "234            OS0235              72         317   \n",
       "235            OS0236              90         319   \n",
       "236            OS0237              22         320   \n",
       "\n",
       "     Tempo Total de Contrato (Meses)  \n",
       "0                                 14  \n",
       "1                                 12  \n",
       "2                                 14  \n",
       "3                                  8  \n",
       "4                                  8  \n",
       "..                               ...  \n",
       "232                                4  \n",
       "233                                8  \n",
       "234                                6  \n",
       "235                               14  \n",
       "236                               12  \n",
       "\n",
       "[237 rows x 4 columns]"
      ]
     },
     "metadata": {},
     "output_type": "display_data"
    }
   ],
   "source": [
    "# usando o Pandas para fazer a análise\n",
    "import pandas as pd\n",
    "# Todos os dataframes receberam o sulfixo '_df'\n",
    "# Os aqruivos utlizados tinham como separador o ; e o decimal era marcado por ,\n",
    "funcionarios_df = pd.read_csv('CadastroFuncionarios.csv', sep = ';', decimal = ',')\n",
    "clientes_df = pd.read_csv('CadastroClientes.csv', sep = ';', decimal=',')\n",
    "BaseServiçosPrestados_df = pd.read_excel('BaseServiçosPrestados.xlsx')\n",
    "\n",
    "# excluindo colunas que não serão úteis para a análise\n",
    "# neste caso será a coluna de estado civil do dataframe de funcionários\n",
    "\n",
    "funcionarios_df = funcionarios_df.drop(['Estado Civil'],axis=1)\n",
    "\n",
    "display(funcionarios_df)\n",
    "display(clientes_df)\n",
    "display(BaseServiçosPrestados_df)\n",
    "\n",
    "\n"
   ]
  },
  {
   "cell_type": "markdown",
   "id": "8e1267c1",
   "metadata": {},
   "source": [
    "#### Respondendo a pergunta sobre a folha salarial"
   ]
  },
  {
   "cell_type": "code",
   "execution_count": 15,
   "id": "8d4cec41",
   "metadata": {},
   "outputs": [
    {
     "name": "stdout",
     "output_type": "stream",
     "text": [
      "O Total da Folha salarial foi de R$2,717,493.22\n"
     ]
    }
   ],
   "source": [
    "# Criaremos uma coluna com o salário total de cada funcionário = salário base + imposto + benefícios + VT + VR\n",
    "funcionarios_df['Salario Total'] = funcionarios_df['Salario Base'] + funcionarios_df['Impostos'] + funcionarios_df['Beneficios'] + funcionarios_df['VT'] + funcionarios_df['VR'] \n",
    "print('O Total da Folha salarial foi de R${:,}'.format(sum(funcionarios_df['Salario Total'])))\n"
   ]
  },
  {
   "cell_type": "markdown",
   "id": "c6510bf5",
   "metadata": {},
   "source": [
    "#### Calculando o Faturamento Total"
   ]
  },
  {
   "cell_type": "code",
   "execution_count": 21,
   "id": "84db47b2",
   "metadata": {},
   "outputs": [
    {
     "name": "stdout",
     "output_type": "stream",
     "text": [
      "O faturamento total foi de R$5,519,160\n"
     ]
    }
   ],
   "source": [
    "# para isso vamos criar uma tabela auxiliar combinando os valores, úteis para essa análise, das tabelas de serviços e clientes \n",
    "# fazemos nessa ordem a junção dos df por termos valores únicos na nossa BasBaseServiçosPrestados_df\n",
    "# E depois multiplicamos os valores de tempo total de contrato e valor do contrato\n",
    "faturamentos_df = BaseServiçosPrestados_df[['ID Cliente','Tempo Total de Contrato (Meses)']].merge(clientes_df[['ID Cliente','Valor Contrato Mensal']], on = 'ID Cliente')\n",
    "faturamentos_df['Faturamento Total'] = faturamentos_df['Tempo Total de Contrato (Meses)'] * faturamentos_df['Valor Contrato Mensal']\n",
    "\n",
    "print('O faturamento total foi de R${:,}'.format(sum(faturamentos_df['Faturamento Total'])))"
   ]
  },
  {
   "cell_type": "markdown",
   "id": "a9bf9d9d",
   "metadata": {},
   "source": [
    "#### Calculando a % dos funcionários que fecharam contrato"
   ]
  },
  {
   "cell_type": "code",
   "execution_count": 23,
   "id": "332a5ea7",
   "metadata": {
    "scrolled": true
   },
   "outputs": [
    {
     "name": "stdout",
     "output_type": "stream",
     "text": [
      "O porcentagem de funcionários que fecharam contratos foi de 86.84%\n"
     ]
    }
   ],
   "source": [
    "# temos que contar os funcionários que fecharam contrato e a quantidade total de funcionários\n",
    "# temos que tratar as duplicatas de funcionários também usando a função .unique()\n",
    "\n",
    "qtde_funcionarios_total = len(funcionarios_df['ID Funcionário'])\n",
    "qtde_funcionarios_qfecharamcontrato = len(BaseServiçosPrestados_df['ID Funcionário'].unique())\n",
    "\n",
    "print('O porcentagem de funcionários que fecharam contratos foi de {:.2%}'.format(qtde_funcionarios_qfecharamcontrato/qtde_funcionarios_total))"
   ]
  },
  {
   "cell_type": "markdown",
   "id": "c6b2d40e",
   "metadata": {},
   "source": [
    "#### Quantidade de contratos por área"
   ]
  },
  {
   "cell_type": "code",
   "execution_count": 33,
   "id": "5a3535fd",
   "metadata": {},
   "outputs": [
    {
     "data": {
      "text/plain": [
       "Administrativo    63\n",
       "Operações         48\n",
       "Comercial         44\n",
       "Financeiro        42\n",
       "Logística         40\n",
       "Name: Area, dtype: int64"
      ]
     },
     "metadata": {},
     "output_type": "display_data"
    },
    {
     "data": {
      "text/plain": [
       "<Axes: >"
      ]
     },
     "execution_count": 33,
     "metadata": {},
     "output_type": "execute_result"
    },
    {
     "data": {
      "image/png": "[encoded data removed]",
      "text/plain": [
       "<Figure size 640x480 with 1 Axes>"
      ]
     },
     "metadata": {},
     "output_type": "display_data"
    }
   ],
   "source": [
    "# vamos criar um df juntando as informações de serviçoes prestados para termos a quantidade de funcionários que prestaram serviçoes e o df de funcionários \n",
    "\n",
    "contratos_area_df = BaseServiçosPrestados_df[['ID Funcionário']].merge(funcionarios_df[['ID Funcionário','Area']], on = 'ID Funcionário')\n",
    "contratos_area_qtde = contratos_area_df['Area'].value_counts()\n",
    "# vamos criar um simples gráfico de barras também, para melhorar a visualização\n",
    "display(contratos_area_qtde)\n",
    "contratos_area_qtde.plot(kind = 'bar')"
   ]
  },
  {
   "cell_type": "markdown",
   "id": "45fee5ed",
   "metadata": {},
   "source": [
    "#### Quantos Funcionários por área "
   ]
  },
  {
   "cell_type": "code",
   "execution_count": 31,
   "id": "8f41cb1f",
   "metadata": {},
   "outputs": [
    {
     "name": "stdout",
     "output_type": "stream",
     "text": [
      "Administrativo    26\n",
      "Comercial         26\n",
      "Operações         23\n",
      "Logística         21\n",
      "Financeiro        18\n",
      "Name: Area, dtype: int64\n"
     ]
    },
    {
     "data": {
      "image/png": "[encoded data removed]",
      "text/plain": [
       "<Figure size 640x480 with 1 Axes>"
      ]
     },
     "metadata": {},
     "output_type": "display_data"
    }
   ],
   "source": [
    "# bem simples, só executar um value.counts() na coluna de área\n",
    "# vamos criar um simples gráfico de pizza também, para melhorar a visualização\n",
    "funcionarios_area = funcionarios_df['Area'].value_counts()\n",
    "funcionarios_area.plot(kind = 'pie')\n",
    "print(funcionarios_area)"
   ]
  },
  {
   "cell_type": "markdown",
   "id": "fecfb8f6",
   "metadata": {},
   "source": [
    "#### Ticket Médio Mensal"
   ]
  },
  {
   "cell_type": "code",
   "execution_count": 35,
   "id": "4d149a3c",
   "metadata": {},
   "outputs": [
    {
     "name": "stdout",
     "output_type": "stream",
     "text": [
      "O Ticket Médio mensal foi de : R$2,502.56\n"
     ]
    }
   ],
   "source": [
    "# Para calcular o Ticket Médio mensal iremos fazer a média da coluna de valor de contrato mensal \n",
    "ticket_medio = clientes_df['Valor Contrato Mensal'].mean()\n",
    "print('O Ticket Médio mensal foi de : R${:,.2f}'.format(ticket_medio))"
   ]
  }
 ],
 "metadata": {
  "kernelspec": {
   "display_name": "Python 3 (ipykernel)",
   "language": "python",
   "name": "python3"
  },
  "language_info": {
   "codemirror_mode": {
    "name": "ipython",
    "version": 3
   },
   "file_extension": ".py",
   "mimetype": "text/x-python",
   "name": "python",
   "nbconvert_exporter": "python",
   "pygments_lexer": "ipython3",
   "version": "3.10.9"
  }
 },
 "nbformat": 4,
 "nbformat_minor": 5
}
